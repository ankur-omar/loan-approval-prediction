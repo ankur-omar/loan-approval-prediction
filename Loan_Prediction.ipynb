{
  "nbformat": 4,
  "nbformat_minor": 0,
  "metadata": {
    "colab": {
      "name": "Loan_Prediction.ipynb",
      "provenance": [],
      "toc_visible": true,
      "authorship_tag": "ABX9TyPouDy2Y22tY/1CYjtyXbg7",
      "include_colab_link": true
    },
    "kernelspec": {
      "name": "python3",
      "display_name": "Python 3"
    }
  },
  "cells": [
    {
      "cell_type": "markdown",
      "metadata": {
        "id": "view-in-github",
        "colab_type": "text"
      },
      "source": [
        "<a href=\"https://colab.research.google.com/github/ankur-omar/loan-approval-prediction/blob/master/Loan_Prediction.ipynb\" target=\"_parent\"><img src=\"https://colab.research.google.com/assets/colab-badge.svg\" alt=\"Open In Colab\"/></a>"
      ]
    },
    {
      "cell_type": "markdown",
      "metadata": {
        "id": "FDNvNTCb_--B",
        "colab_type": "text"
      },
      "source": [
        "  # **`Loan Prediction Project Using Neural network`**\n",
        "\n",
        "\n"
      ]
    },
    {
      "cell_type": "code",
      "metadata": {
        "id": "aHWV0vrrorm2",
        "colab_type": "code",
        "colab": {}
      },
      "source": [
        "#import some neccessary library\n",
        "import numpy as np\n",
        "import pandas as pd\n"
      ],
      "execution_count": 56,
      "outputs": []
    },
    {
      "cell_type": "markdown",
      "metadata": {
        "id": "bXUk_QFr5Sjy",
        "colab_type": "text"
      },
      "source": [
        "# **Data Preprocessing**"
      ]
    },
    {
      "cell_type": "code",
      "metadata": {
        "id": "14CScZ12ppzQ",
        "colab_type": "code",
        "colab": {}
      },
      "source": [
        "#upload the data set \n",
        "data =pd.read_csv(\"loan_training.csv\")\n"
      ],
      "execution_count": 57,
      "outputs": []
    },
    {
      "cell_type": "code",
      "metadata": {
        "id": "h3RWvtQCp5JO",
        "colab_type": "code",
        "colab": {
          "base_uri": "https://localhost:8080/",
          "height": 241
        },
        "outputId": "2a483963-eac3-4697-fccb-427b724cfac1"
      },
      "source": [
        "#check top 5 record in data\n",
        "data.head()"
      ],
      "execution_count": 58,
      "outputs": [
        {
          "output_type": "execute_result",
          "data": {
            "text/html": [
              "<div>\n",
              "<style scoped>\n",
              "    .dataframe tbody tr th:only-of-type {\n",
              "        vertical-align: middle;\n",
              "    }\n",
              "\n",
              "    .dataframe tbody tr th {\n",
              "        vertical-align: top;\n",
              "    }\n",
              "\n",
              "    .dataframe thead th {\n",
              "        text-align: right;\n",
              "    }\n",
              "</style>\n",
              "<table border=\"1\" class=\"dataframe\">\n",
              "  <thead>\n",
              "    <tr style=\"text-align: right;\">\n",
              "      <th></th>\n",
              "      <th>Loan_ID</th>\n",
              "      <th>Gender</th>\n",
              "      <th>Married</th>\n",
              "      <th>Dependents</th>\n",
              "      <th>Education</th>\n",
              "      <th>Self_Employed</th>\n",
              "      <th>ApplicantIncome</th>\n",
              "      <th>CoapplicantIncome</th>\n",
              "      <th>LoanAmount</th>\n",
              "      <th>Loan_Amount_Term</th>\n",
              "      <th>Credit_History</th>\n",
              "      <th>Property_Area</th>\n",
              "      <th>Loan_Status</th>\n",
              "    </tr>\n",
              "  </thead>\n",
              "  <tbody>\n",
              "    <tr>\n",
              "      <th>0</th>\n",
              "      <td>LP001002</td>\n",
              "      <td>Male</td>\n",
              "      <td>No</td>\n",
              "      <td>0</td>\n",
              "      <td>Graduate</td>\n",
              "      <td>No</td>\n",
              "      <td>5849</td>\n",
              "      <td>0.0</td>\n",
              "      <td>NaN</td>\n",
              "      <td>360.0</td>\n",
              "      <td>1.0</td>\n",
              "      <td>Urban</td>\n",
              "      <td>Y</td>\n",
              "    </tr>\n",
              "    <tr>\n",
              "      <th>1</th>\n",
              "      <td>LP001003</td>\n",
              "      <td>Male</td>\n",
              "      <td>Yes</td>\n",
              "      <td>1</td>\n",
              "      <td>Graduate</td>\n",
              "      <td>No</td>\n",
              "      <td>4583</td>\n",
              "      <td>1508.0</td>\n",
              "      <td>128.0</td>\n",
              "      <td>360.0</td>\n",
              "      <td>1.0</td>\n",
              "      <td>Rural</td>\n",
              "      <td>N</td>\n",
              "    </tr>\n",
              "    <tr>\n",
              "      <th>2</th>\n",
              "      <td>LP001005</td>\n",
              "      <td>Male</td>\n",
              "      <td>Yes</td>\n",
              "      <td>0</td>\n",
              "      <td>Graduate</td>\n",
              "      <td>Yes</td>\n",
              "      <td>3000</td>\n",
              "      <td>0.0</td>\n",
              "      <td>66.0</td>\n",
              "      <td>360.0</td>\n",
              "      <td>1.0</td>\n",
              "      <td>Urban</td>\n",
              "      <td>Y</td>\n",
              "    </tr>\n",
              "    <tr>\n",
              "      <th>3</th>\n",
              "      <td>LP001006</td>\n",
              "      <td>Male</td>\n",
              "      <td>Yes</td>\n",
              "      <td>0</td>\n",
              "      <td>Not Graduate</td>\n",
              "      <td>No</td>\n",
              "      <td>2583</td>\n",
              "      <td>2358.0</td>\n",
              "      <td>120.0</td>\n",
              "      <td>360.0</td>\n",
              "      <td>1.0</td>\n",
              "      <td>Urban</td>\n",
              "      <td>Y</td>\n",
              "    </tr>\n",
              "    <tr>\n",
              "      <th>4</th>\n",
              "      <td>LP001008</td>\n",
              "      <td>Male</td>\n",
              "      <td>No</td>\n",
              "      <td>0</td>\n",
              "      <td>Graduate</td>\n",
              "      <td>No</td>\n",
              "      <td>6000</td>\n",
              "      <td>0.0</td>\n",
              "      <td>141.0</td>\n",
              "      <td>360.0</td>\n",
              "      <td>1.0</td>\n",
              "      <td>Urban</td>\n",
              "      <td>Y</td>\n",
              "    </tr>\n",
              "  </tbody>\n",
              "</table>\n",
              "</div>"
            ],
            "text/plain": [
              "    Loan_ID Gender Married  ... Credit_History Property_Area Loan_Status\n",
              "0  LP001002   Male      No  ...            1.0         Urban           Y\n",
              "1  LP001003   Male     Yes  ...            1.0         Rural           N\n",
              "2  LP001005   Male     Yes  ...            1.0         Urban           Y\n",
              "3  LP001006   Male     Yes  ...            1.0         Urban           Y\n",
              "4  LP001008   Male      No  ...            1.0         Urban           Y\n",
              "\n",
              "[5 rows x 13 columns]"
            ]
          },
          "metadata": {
            "tags": []
          },
          "execution_count": 58
        }
      ]
    },
    {
      "cell_type": "code",
      "metadata": {
        "id": "cWffuBm_qEWf",
        "colab_type": "code",
        "colab": {
          "base_uri": "https://localhost:8080/",
          "height": 255
        },
        "outputId": "86851757-001e-4886-df1d-f402c08cb49e"
      },
      "source": [
        "#check the datatype of features\n",
        "data.dtypes"
      ],
      "execution_count": 59,
      "outputs": [
        {
          "output_type": "execute_result",
          "data": {
            "text/plain": [
              "Loan_ID               object\n",
              "Gender                object\n",
              "Married               object\n",
              "Dependents            object\n",
              "Education             object\n",
              "Self_Employed         object\n",
              "ApplicantIncome        int64\n",
              "CoapplicantIncome    float64\n",
              "LoanAmount           float64\n",
              "Loan_Amount_Term     float64\n",
              "Credit_History       float64\n",
              "Property_Area         object\n",
              "Loan_Status           object\n",
              "dtype: object"
            ]
          },
          "metadata": {
            "tags": []
          },
          "execution_count": 59
        }
      ]
    },
    {
      "cell_type": "code",
      "metadata": {
        "id": "ccSdJm5BqIkB",
        "colab_type": "code",
        "colab": {
          "base_uri": "https://localhost:8080/",
          "height": 34
        },
        "outputId": "96485e85-1b12-4ddc-c4e8-13a497fc4be4"
      },
      "source": [
        "#check the shape of data\n",
        "data.shape"
      ],
      "execution_count": 60,
      "outputs": [
        {
          "output_type": "execute_result",
          "data": {
            "text/plain": [
              "(614, 13)"
            ]
          },
          "metadata": {
            "tags": []
          },
          "execution_count": 60
        }
      ]
    },
    {
      "cell_type": "code",
      "metadata": {
        "id": "OJOP0zl1qTUb",
        "colab_type": "code",
        "colab": {
          "base_uri": "https://localhost:8080/",
          "height": 255
        },
        "outputId": "5a62bfc7-6db9-41c5-85bd-3976e0276848"
      },
      "source": [
        "#check missing values in columns\n",
        "data.isnull().sum()"
      ],
      "execution_count": 61,
      "outputs": [
        {
          "output_type": "execute_result",
          "data": {
            "text/plain": [
              "Loan_ID               0\n",
              "Gender               13\n",
              "Married               3\n",
              "Dependents           15\n",
              "Education             0\n",
              "Self_Employed        32\n",
              "ApplicantIncome       0\n",
              "CoapplicantIncome     0\n",
              "LoanAmount           22\n",
              "Loan_Amount_Term     14\n",
              "Credit_History       50\n",
              "Property_Area         0\n",
              "Loan_Status           0\n",
              "dtype: int64"
            ]
          },
          "metadata": {
            "tags": []
          },
          "execution_count": 61
        }
      ]
    },
    {
      "cell_type": "markdown",
      "metadata": {
        "id": "pp1DeBd8ri4K",
        "colab_type": "text"
      },
      "source": [
        "# **Filling missing Values**\n",
        "\n",
        "# 1--> Categorical- using mode\n"
      ]
    },
    {
      "cell_type": "code",
      "metadata": {
        "id": "GUuLQONsr1h6",
        "colab_type": "code",
        "colab": {}
      },
      "source": [
        "# filling missing values of categorical variables with mode\n",
        "data[\"Gender\"].fillna(data[\"Gender\"].mode()[0],inplace =True)\n",
        "data[\"Married\"].fillna(data[\"Married\"].mode()[0],inplace =True)\n",
        "data[\"Dependents\"].fillna(data[\"Dependents\"].mode()[0],inplace =True)\n",
        "data[\"Self_Employed\"].fillna(data[\"Self_Employed\"].mode()[0],inplace =True)\n",
        "#data[\"LoanAmount\"].fillna(data[\"LoanAmount\"].mode()[0],inplace =True)\n",
        "data[\"Credit_History\"].fillna(data[\"Credit_History\"].mode()[0],inplace =True)\n",
        "data[\"Loan_Amount_Term\"].fillna(data[\"Loan_Amount_Term\"].mode()[0],inplace =True)"
      ],
      "execution_count": 62,
      "outputs": []
    },
    {
      "cell_type": "code",
      "metadata": {
        "id": "3QKrIoiGvn0G",
        "colab_type": "code",
        "colab": {}
      },
      "source": [
        "# for Continuous data with mean\n",
        "\n",
        "data[\"LoanAmount\"].fillna(data[\"LoanAmount\"].mean(),inplace =True)"
      ],
      "execution_count": 63,
      "outputs": []
    },
    {
      "cell_type": "code",
      "metadata": {
        "id": "auEgVfGlweCk",
        "colab_type": "code",
        "colab": {
          "base_uri": "https://localhost:8080/",
          "height": 255
        },
        "outputId": "b6411cf7-8870-47cb-fe96-b6ffc8adfab1"
      },
      "source": [
        "data.isnull().sum()"
      ],
      "execution_count": 64,
      "outputs": [
        {
          "output_type": "execute_result",
          "data": {
            "text/plain": [
              "Loan_ID              0\n",
              "Gender               0\n",
              "Married              0\n",
              "Dependents           0\n",
              "Education            0\n",
              "Self_Employed        0\n",
              "ApplicantIncome      0\n",
              "CoapplicantIncome    0\n",
              "LoanAmount           0\n",
              "Loan_Amount_Term     0\n",
              "Credit_History       0\n",
              "Property_Area        0\n",
              "Loan_Status          0\n",
              "dtype: int64"
            ]
          },
          "metadata": {
            "tags": []
          },
          "execution_count": 64
        }
      ]
    },
    {
      "cell_type": "code",
      "metadata": {
        "id": "0C0YWVgfwiR-",
        "colab_type": "code",
        "colab": {}
      },
      "source": [
        ""
      ],
      "execution_count": 64,
      "outputs": []
    },
    {
      "cell_type": "markdown",
      "metadata": {
        "id": "r-MGAEzWxA6H",
        "colab_type": "text"
      },
      "source": [
        "# **Convert Categories into Number**\n"
      ]
    },
    {
      "cell_type": "code",
      "metadata": {
        "id": "RNEwVCi2xJB3",
        "colab_type": "code",
        "colab": {}
      },
      "source": [
        "#converting categories into number using map function\n",
        "\n",
        "data[\"Gender\"] =data[\"Gender\"].map({\"Male\":0,\"Female\":1})\n",
        "data[\"Married\"] =data[\"Married\"].map({\"Yes\":1,\"No\":0})\n",
        "data[\"Dependents\"] =data[\"Dependents\"].map({\"0\":0,\"1\":1,\"2\":2,\"3+\":3})\n",
        "data[\"Education\"] =data[\"Education\"].map({\"Graduate\":1,\"Not Graduate\":0})\n",
        "data[\"Self_Employed\"] =data[\"Self_Employed\"].map({\"Yes\":1,\"No\":0})\n",
        "data[\"Property_Area\"] =data[\"Property_Area\"].map({\"Rural\":0,\"Semiurban\":1,\"Urban\":3})\n",
        "data[\"Loan_Status\"] =data[\"Loan_Status\"].map({\"Y\":1,\"N\":0})\n"
      ],
      "execution_count": 65,
      "outputs": []
    },
    {
      "cell_type": "code",
      "metadata": {
        "id": "Hzfx7QP4zMR0",
        "colab_type": "code",
        "colab": {
          "base_uri": "https://localhost:8080/",
          "height": 224
        },
        "outputId": "cce5d41e-e656-47a5-eff6-cee3b590b4f3"
      },
      "source": [
        "data.head()"
      ],
      "execution_count": 66,
      "outputs": [
        {
          "output_type": "execute_result",
          "data": {
            "text/html": [
              "<div>\n",
              "<style scoped>\n",
              "    .dataframe tbody tr th:only-of-type {\n",
              "        vertical-align: middle;\n",
              "    }\n",
              "\n",
              "    .dataframe tbody tr th {\n",
              "        vertical-align: top;\n",
              "    }\n",
              "\n",
              "    .dataframe thead th {\n",
              "        text-align: right;\n",
              "    }\n",
              "</style>\n",
              "<table border=\"1\" class=\"dataframe\">\n",
              "  <thead>\n",
              "    <tr style=\"text-align: right;\">\n",
              "      <th></th>\n",
              "      <th>Loan_ID</th>\n",
              "      <th>Gender</th>\n",
              "      <th>Married</th>\n",
              "      <th>Dependents</th>\n",
              "      <th>Education</th>\n",
              "      <th>Self_Employed</th>\n",
              "      <th>ApplicantIncome</th>\n",
              "      <th>CoapplicantIncome</th>\n",
              "      <th>LoanAmount</th>\n",
              "      <th>Loan_Amount_Term</th>\n",
              "      <th>Credit_History</th>\n",
              "      <th>Property_Area</th>\n",
              "      <th>Loan_Status</th>\n",
              "    </tr>\n",
              "  </thead>\n",
              "  <tbody>\n",
              "    <tr>\n",
              "      <th>0</th>\n",
              "      <td>LP001002</td>\n",
              "      <td>0</td>\n",
              "      <td>0</td>\n",
              "      <td>0</td>\n",
              "      <td>1</td>\n",
              "      <td>0</td>\n",
              "      <td>5849</td>\n",
              "      <td>0.0</td>\n",
              "      <td>146.412162</td>\n",
              "      <td>360.0</td>\n",
              "      <td>1.0</td>\n",
              "      <td>3</td>\n",
              "      <td>1</td>\n",
              "    </tr>\n",
              "    <tr>\n",
              "      <th>1</th>\n",
              "      <td>LP001003</td>\n",
              "      <td>0</td>\n",
              "      <td>1</td>\n",
              "      <td>1</td>\n",
              "      <td>1</td>\n",
              "      <td>0</td>\n",
              "      <td>4583</td>\n",
              "      <td>1508.0</td>\n",
              "      <td>128.000000</td>\n",
              "      <td>360.0</td>\n",
              "      <td>1.0</td>\n",
              "      <td>0</td>\n",
              "      <td>0</td>\n",
              "    </tr>\n",
              "    <tr>\n",
              "      <th>2</th>\n",
              "      <td>LP001005</td>\n",
              "      <td>0</td>\n",
              "      <td>1</td>\n",
              "      <td>0</td>\n",
              "      <td>1</td>\n",
              "      <td>1</td>\n",
              "      <td>3000</td>\n",
              "      <td>0.0</td>\n",
              "      <td>66.000000</td>\n",
              "      <td>360.0</td>\n",
              "      <td>1.0</td>\n",
              "      <td>3</td>\n",
              "      <td>1</td>\n",
              "    </tr>\n",
              "    <tr>\n",
              "      <th>3</th>\n",
              "      <td>LP001006</td>\n",
              "      <td>0</td>\n",
              "      <td>1</td>\n",
              "      <td>0</td>\n",
              "      <td>0</td>\n",
              "      <td>0</td>\n",
              "      <td>2583</td>\n",
              "      <td>2358.0</td>\n",
              "      <td>120.000000</td>\n",
              "      <td>360.0</td>\n",
              "      <td>1.0</td>\n",
              "      <td>3</td>\n",
              "      <td>1</td>\n",
              "    </tr>\n",
              "    <tr>\n",
              "      <th>4</th>\n",
              "      <td>LP001008</td>\n",
              "      <td>0</td>\n",
              "      <td>0</td>\n",
              "      <td>0</td>\n",
              "      <td>1</td>\n",
              "      <td>0</td>\n",
              "      <td>6000</td>\n",
              "      <td>0.0</td>\n",
              "      <td>141.000000</td>\n",
              "      <td>360.0</td>\n",
              "      <td>1.0</td>\n",
              "      <td>3</td>\n",
              "      <td>1</td>\n",
              "    </tr>\n",
              "  </tbody>\n",
              "</table>\n",
              "</div>"
            ],
            "text/plain": [
              "    Loan_ID  Gender  Married  ...  Credit_History  Property_Area  Loan_Status\n",
              "0  LP001002       0        0  ...             1.0              3            1\n",
              "1  LP001003       0        1  ...             1.0              0            0\n",
              "2  LP001005       0        1  ...             1.0              3            1\n",
              "3  LP001006       0        1  ...             1.0              3            1\n",
              "4  LP001008       0        0  ...             1.0              3            1\n",
              "\n",
              "[5 rows x 13 columns]"
            ]
          },
          "metadata": {
            "tags": []
          },
          "execution_count": 66
        }
      ]
    },
    {
      "cell_type": "code",
      "metadata": {
        "id": "2YfVBnJSziXt",
        "colab_type": "code",
        "colab": {}
      },
      "source": [
        ""
      ],
      "execution_count": 66,
      "outputs": []
    },
    {
      "cell_type": "markdown",
      "metadata": {
        "id": "ccN3rRh8znt5",
        "colab_type": "text"
      },
      "source": [
        "# **Bringing all the variable in range 0 to 1**"
      ]
    },
    {
      "cell_type": "markdown",
      "metadata": {
        "id": "vVIByv4zzxVd",
        "colab_type": "text"
      },
      "source": [
        "# Xnorm =X-X_min/X_max-X_min"
      ]
    },
    {
      "cell_type": "code",
      "metadata": {
        "id": "OPBpP82vz7WW",
        "colab_type": "code",
        "colab": {}
      },
      "source": [
        "#bringing variable in the range 0 to 1\n",
        "for i in data.columns[1:]:\n",
        "  data[i] =(data[i]-data[i].min())/(data[i].max()-data[i].min())\n"
      ],
      "execution_count": 67,
      "outputs": []
    },
    {
      "cell_type": "code",
      "metadata": {
        "id": "m6Yb1UT71OtG",
        "colab_type": "code",
        "colab": {
          "base_uri": "https://localhost:8080/",
          "height": 224
        },
        "outputId": "7c2cfca5-f0b4-4e16-c4d6-adef3218a860"
      },
      "source": [
        "data.head()"
      ],
      "execution_count": 68,
      "outputs": [
        {
          "output_type": "execute_result",
          "data": {
            "text/html": [
              "<div>\n",
              "<style scoped>\n",
              "    .dataframe tbody tr th:only-of-type {\n",
              "        vertical-align: middle;\n",
              "    }\n",
              "\n",
              "    .dataframe tbody tr th {\n",
              "        vertical-align: top;\n",
              "    }\n",
              "\n",
              "    .dataframe thead th {\n",
              "        text-align: right;\n",
              "    }\n",
              "</style>\n",
              "<table border=\"1\" class=\"dataframe\">\n",
              "  <thead>\n",
              "    <tr style=\"text-align: right;\">\n",
              "      <th></th>\n",
              "      <th>Loan_ID</th>\n",
              "      <th>Gender</th>\n",
              "      <th>Married</th>\n",
              "      <th>Dependents</th>\n",
              "      <th>Education</th>\n",
              "      <th>Self_Employed</th>\n",
              "      <th>ApplicantIncome</th>\n",
              "      <th>CoapplicantIncome</th>\n",
              "      <th>LoanAmount</th>\n",
              "      <th>Loan_Amount_Term</th>\n",
              "      <th>Credit_History</th>\n",
              "      <th>Property_Area</th>\n",
              "      <th>Loan_Status</th>\n",
              "    </tr>\n",
              "  </thead>\n",
              "  <tbody>\n",
              "    <tr>\n",
              "      <th>0</th>\n",
              "      <td>LP001002</td>\n",
              "      <td>0.0</td>\n",
              "      <td>0.0</td>\n",
              "      <td>0.000000</td>\n",
              "      <td>1.0</td>\n",
              "      <td>0.0</td>\n",
              "      <td>0.070489</td>\n",
              "      <td>0.000000</td>\n",
              "      <td>0.198860</td>\n",
              "      <td>0.74359</td>\n",
              "      <td>1.0</td>\n",
              "      <td>1.0</td>\n",
              "      <td>1.0</td>\n",
              "    </tr>\n",
              "    <tr>\n",
              "      <th>1</th>\n",
              "      <td>LP001003</td>\n",
              "      <td>0.0</td>\n",
              "      <td>1.0</td>\n",
              "      <td>0.333333</td>\n",
              "      <td>1.0</td>\n",
              "      <td>0.0</td>\n",
              "      <td>0.054830</td>\n",
              "      <td>0.036192</td>\n",
              "      <td>0.172214</td>\n",
              "      <td>0.74359</td>\n",
              "      <td>1.0</td>\n",
              "      <td>0.0</td>\n",
              "      <td>0.0</td>\n",
              "    </tr>\n",
              "    <tr>\n",
              "      <th>2</th>\n",
              "      <td>LP001005</td>\n",
              "      <td>0.0</td>\n",
              "      <td>1.0</td>\n",
              "      <td>0.000000</td>\n",
              "      <td>1.0</td>\n",
              "      <td>1.0</td>\n",
              "      <td>0.035250</td>\n",
              "      <td>0.000000</td>\n",
              "      <td>0.082489</td>\n",
              "      <td>0.74359</td>\n",
              "      <td>1.0</td>\n",
              "      <td>1.0</td>\n",
              "      <td>1.0</td>\n",
              "    </tr>\n",
              "    <tr>\n",
              "      <th>3</th>\n",
              "      <td>LP001006</td>\n",
              "      <td>0.0</td>\n",
              "      <td>1.0</td>\n",
              "      <td>0.000000</td>\n",
              "      <td>0.0</td>\n",
              "      <td>0.0</td>\n",
              "      <td>0.030093</td>\n",
              "      <td>0.056592</td>\n",
              "      <td>0.160637</td>\n",
              "      <td>0.74359</td>\n",
              "      <td>1.0</td>\n",
              "      <td>1.0</td>\n",
              "      <td>1.0</td>\n",
              "    </tr>\n",
              "    <tr>\n",
              "      <th>4</th>\n",
              "      <td>LP001008</td>\n",
              "      <td>0.0</td>\n",
              "      <td>0.0</td>\n",
              "      <td>0.000000</td>\n",
              "      <td>1.0</td>\n",
              "      <td>0.0</td>\n",
              "      <td>0.072356</td>\n",
              "      <td>0.000000</td>\n",
              "      <td>0.191027</td>\n",
              "      <td>0.74359</td>\n",
              "      <td>1.0</td>\n",
              "      <td>1.0</td>\n",
              "      <td>1.0</td>\n",
              "    </tr>\n",
              "  </tbody>\n",
              "</table>\n",
              "</div>"
            ],
            "text/plain": [
              "    Loan_ID  Gender  Married  ...  Credit_History  Property_Area  Loan_Status\n",
              "0  LP001002     0.0      0.0  ...             1.0            1.0          1.0\n",
              "1  LP001003     0.0      1.0  ...             1.0            0.0          0.0\n",
              "2  LP001005     0.0      1.0  ...             1.0            1.0          1.0\n",
              "3  LP001006     0.0      1.0  ...             1.0            1.0          1.0\n",
              "4  LP001008     0.0      0.0  ...             1.0            1.0          1.0\n",
              "\n",
              "[5 rows x 13 columns]"
            ]
          },
          "metadata": {
            "tags": []
          },
          "execution_count": 68
        }
      ]
    },
    {
      "cell_type": "code",
      "metadata": {
        "id": "t2AOnaHB1aHx",
        "colab_type": "code",
        "colab": {}
      },
      "source": [
        "#saving the preprocessed data\n",
        "data.to_csv(\"pre_processed_loan_data.csv\",index =False)"
      ],
      "execution_count": 69,
      "outputs": []
    },
    {
      "cell_type": "markdown",
      "metadata": {
        "id": "D6Wx2Aux31XK",
        "colab_type": "text"
      },
      "source": [
        "# **Steps to Build a Neural Network Using Keras**\n",
        "\n",
        "**1->** Loading the dataset\n",
        "**2->** Creating training and validation set\n",
        "**3->** Defining the architecture of the model\n",
        "**4->** Compiling the Model(define loss function,optimizer)\n",
        "**5->** Training the model\n",
        "**6->** Evaluating model performance on training and validation set"
      ]
    },
    {
      "cell_type": "markdown",
      "metadata": {
        "id": "n9BajuKY5k-k",
        "colab_type": "text"
      },
      "source": [
        "# **1-> Loading the Dataset**"
      ]
    },
    {
      "cell_type": "code",
      "metadata": {
        "id": "m16TLHsY5t5z",
        "colab_type": "code",
        "colab": {}
      },
      "source": [
        "import matplotlib.pyplot as plt\n",
        "import sklearn\n",
        "from sklearn.model_selection import train_test_split\n",
        "from sklearn.metrics import accuracy_score\n",
        "%matplotlib inline\n"
      ],
      "execution_count": 70,
      "outputs": []
    },
    {
      "cell_type": "code",
      "metadata": {
        "id": "AjiL-gCe6c81",
        "colab_type": "code",
        "colab": {}
      },
      "source": [
        "#Loading Pre-processed dataset\n",
        "data1 =pd.read_csv(\"pre_processed_loan_data.csv\")\n"
      ],
      "execution_count": 71,
      "outputs": []
    },
    {
      "cell_type": "code",
      "metadata": {
        "id": "xuyqs2dX6uW5",
        "colab_type": "code",
        "colab": {
          "base_uri": "https://localhost:8080/",
          "height": 224
        },
        "outputId": "5a66d17c-0e26-4ae8-fed4-73ca9a46e393"
      },
      "source": [
        "data1.head()"
      ],
      "execution_count": 72,
      "outputs": [
        {
          "output_type": "execute_result",
          "data": {
            "text/html": [
              "<div>\n",
              "<style scoped>\n",
              "    .dataframe tbody tr th:only-of-type {\n",
              "        vertical-align: middle;\n",
              "    }\n",
              "\n",
              "    .dataframe tbody tr th {\n",
              "        vertical-align: top;\n",
              "    }\n",
              "\n",
              "    .dataframe thead th {\n",
              "        text-align: right;\n",
              "    }\n",
              "</style>\n",
              "<table border=\"1\" class=\"dataframe\">\n",
              "  <thead>\n",
              "    <tr style=\"text-align: right;\">\n",
              "      <th></th>\n",
              "      <th>Loan_ID</th>\n",
              "      <th>Gender</th>\n",
              "      <th>Married</th>\n",
              "      <th>Dependents</th>\n",
              "      <th>Education</th>\n",
              "      <th>Self_Employed</th>\n",
              "      <th>ApplicantIncome</th>\n",
              "      <th>CoapplicantIncome</th>\n",
              "      <th>LoanAmount</th>\n",
              "      <th>Loan_Amount_Term</th>\n",
              "      <th>Credit_History</th>\n",
              "      <th>Property_Area</th>\n",
              "      <th>Loan_Status</th>\n",
              "    </tr>\n",
              "  </thead>\n",
              "  <tbody>\n",
              "    <tr>\n",
              "      <th>0</th>\n",
              "      <td>LP001002</td>\n",
              "      <td>0.0</td>\n",
              "      <td>0.0</td>\n",
              "      <td>0.000000</td>\n",
              "      <td>1.0</td>\n",
              "      <td>0.0</td>\n",
              "      <td>0.070489</td>\n",
              "      <td>0.000000</td>\n",
              "      <td>0.198860</td>\n",
              "      <td>0.74359</td>\n",
              "      <td>1.0</td>\n",
              "      <td>1.0</td>\n",
              "      <td>1.0</td>\n",
              "    </tr>\n",
              "    <tr>\n",
              "      <th>1</th>\n",
              "      <td>LP001003</td>\n",
              "      <td>0.0</td>\n",
              "      <td>1.0</td>\n",
              "      <td>0.333333</td>\n",
              "      <td>1.0</td>\n",
              "      <td>0.0</td>\n",
              "      <td>0.054830</td>\n",
              "      <td>0.036192</td>\n",
              "      <td>0.172214</td>\n",
              "      <td>0.74359</td>\n",
              "      <td>1.0</td>\n",
              "      <td>0.0</td>\n",
              "      <td>0.0</td>\n",
              "    </tr>\n",
              "    <tr>\n",
              "      <th>2</th>\n",
              "      <td>LP001005</td>\n",
              "      <td>0.0</td>\n",
              "      <td>1.0</td>\n",
              "      <td>0.000000</td>\n",
              "      <td>1.0</td>\n",
              "      <td>1.0</td>\n",
              "      <td>0.035250</td>\n",
              "      <td>0.000000</td>\n",
              "      <td>0.082489</td>\n",
              "      <td>0.74359</td>\n",
              "      <td>1.0</td>\n",
              "      <td>1.0</td>\n",
              "      <td>1.0</td>\n",
              "    </tr>\n",
              "    <tr>\n",
              "      <th>3</th>\n",
              "      <td>LP001006</td>\n",
              "      <td>0.0</td>\n",
              "      <td>1.0</td>\n",
              "      <td>0.000000</td>\n",
              "      <td>0.0</td>\n",
              "      <td>0.0</td>\n",
              "      <td>0.030093</td>\n",
              "      <td>0.056592</td>\n",
              "      <td>0.160637</td>\n",
              "      <td>0.74359</td>\n",
              "      <td>1.0</td>\n",
              "      <td>1.0</td>\n",
              "      <td>1.0</td>\n",
              "    </tr>\n",
              "    <tr>\n",
              "      <th>4</th>\n",
              "      <td>LP001008</td>\n",
              "      <td>0.0</td>\n",
              "      <td>0.0</td>\n",
              "      <td>0.000000</td>\n",
              "      <td>1.0</td>\n",
              "      <td>0.0</td>\n",
              "      <td>0.072356</td>\n",
              "      <td>0.000000</td>\n",
              "      <td>0.191027</td>\n",
              "      <td>0.74359</td>\n",
              "      <td>1.0</td>\n",
              "      <td>1.0</td>\n",
              "      <td>1.0</td>\n",
              "    </tr>\n",
              "  </tbody>\n",
              "</table>\n",
              "</div>"
            ],
            "text/plain": [
              "    Loan_ID  Gender  Married  ...  Credit_History  Property_Area  Loan_Status\n",
              "0  LP001002     0.0      0.0  ...             1.0            1.0          1.0\n",
              "1  LP001003     0.0      1.0  ...             1.0            0.0          0.0\n",
              "2  LP001005     0.0      1.0  ...             1.0            1.0          1.0\n",
              "3  LP001006     0.0      1.0  ...             1.0            1.0          1.0\n",
              "4  LP001008     0.0      0.0  ...             1.0            1.0          1.0\n",
              "\n",
              "[5 rows x 13 columns]"
            ]
          },
          "metadata": {
            "tags": []
          },
          "execution_count": 72
        }
      ]
    },
    {
      "cell_type": "code",
      "metadata": {
        "id": "zIdeeMVH6xJt",
        "colab_type": "code",
        "colab": {
          "base_uri": "https://localhost:8080/",
          "height": 255
        },
        "outputId": "09cf36b9-2b87-4a05-fcc0-7dd6001af4c7"
      },
      "source": [
        "data1.isnull().sum()"
      ],
      "execution_count": 73,
      "outputs": [
        {
          "output_type": "execute_result",
          "data": {
            "text/plain": [
              "Loan_ID              0\n",
              "Gender               0\n",
              "Married              0\n",
              "Dependents           0\n",
              "Education            0\n",
              "Self_Employed        0\n",
              "ApplicantIncome      0\n",
              "CoapplicantIncome    0\n",
              "LoanAmount           0\n",
              "Loan_Amount_Term     0\n",
              "Credit_History       0\n",
              "Property_Area        0\n",
              "Loan_Status          0\n",
              "dtype: int64"
            ]
          },
          "metadata": {
            "tags": []
          },
          "execution_count": 73
        }
      ]
    },
    {
      "cell_type": "code",
      "metadata": {
        "id": "DvqScpl866I-",
        "colab_type": "code",
        "colab": {
          "base_uri": "https://localhost:8080/",
          "height": 255
        },
        "outputId": "8b53f101-4bcb-480b-ab7b-3461338fe0b4"
      },
      "source": [
        "data1.dtypes"
      ],
      "execution_count": 74,
      "outputs": [
        {
          "output_type": "execute_result",
          "data": {
            "text/plain": [
              "Loan_ID               object\n",
              "Gender               float64\n",
              "Married              float64\n",
              "Dependents           float64\n",
              "Education            float64\n",
              "Self_Employed        float64\n",
              "ApplicantIncome      float64\n",
              "CoapplicantIncome    float64\n",
              "LoanAmount           float64\n",
              "Loan_Amount_Term     float64\n",
              "Credit_History       float64\n",
              "Property_Area        float64\n",
              "Loan_Status          float64\n",
              "dtype: object"
            ]
          },
          "metadata": {
            "tags": []
          },
          "execution_count": 74
        }
      ]
    },
    {
      "cell_type": "code",
      "metadata": {
        "id": "Sjiup2me7HG4",
        "colab_type": "code",
        "colab": {}
      },
      "source": [
        "#drop the Loan_Id \n",
        "data1 =data1.drop(\"Loan_ID\",axis =1)"
      ],
      "execution_count": 75,
      "outputs": []
    },
    {
      "cell_type": "code",
      "metadata": {
        "id": "2p9_04vq7WR9",
        "colab_type": "code",
        "colab": {
          "base_uri": "https://localhost:8080/",
          "height": 34
        },
        "outputId": "216f4ffa-e296-455c-90bd-6c1242987cf5"
      },
      "source": [
        "data1.shape"
      ],
      "execution_count": 76,
      "outputs": [
        {
          "output_type": "execute_result",
          "data": {
            "text/plain": [
              "(614, 12)"
            ]
          },
          "metadata": {
            "tags": []
          },
          "execution_count": 76
        }
      ]
    },
    {
      "cell_type": "code",
      "metadata": {
        "id": "0akouzx_7cgn",
        "colab_type": "code",
        "colab": {}
      },
      "source": [
        "#separating the independent and dependent variable\n",
        "\n",
        "#storing all the independent variables as X\n",
        "x =data1.drop(\"Loan_Status\",axis =1)\n",
        "\n",
        "#storing dependent variable as y\n",
        "y =data1[\"Loan_Status\"]\n",
        "\n"
      ],
      "execution_count": 77,
      "outputs": []
    },
    {
      "cell_type": "code",
      "metadata": {
        "id": "N08r2evZ8Far",
        "colab_type": "code",
        "colab": {
          "base_uri": "https://localhost:8080/",
          "height": 34
        },
        "outputId": "157334a3-29c2-49a2-bd2c-66135f544abb"
      },
      "source": [
        "x.shape,y.shape"
      ],
      "execution_count": 78,
      "outputs": [
        {
          "output_type": "execute_result",
          "data": {
            "text/plain": [
              "((614, 11), (614,))"
            ]
          },
          "metadata": {
            "tags": []
          },
          "execution_count": 78
        }
      ]
    },
    {
      "cell_type": "markdown",
      "metadata": {
        "id": "u_Md4O-u8MDo",
        "colab_type": "text"
      },
      "source": [
        "# **2-> Creating Training And Validation Set**"
      ]
    },
    {
      "cell_type": "code",
      "metadata": {
        "id": "FE6DgcdE8R6y",
        "colab_type": "code",
        "colab": {}
      },
      "source": [
        "#creating training and validation set\n",
        "\n",
        "#stratify will make sure that the distribution of classes in training and validation set it similar\n",
        "#random state to regenerate the same training and validation set\n",
        "#test size 0.2 will keep 20% data in validation  set and remaining 80% data i training set\n",
        "\n",
        "x_train,x_test,y_train,y_test  =train_test_split(x,y,stratify =data1['Loan_Status'],random_state =10, test_size = 0.2)\n",
        "\n"
      ],
      "execution_count": 79,
      "outputs": []
    },
    {
      "cell_type": "code",
      "metadata": {
        "id": "h8iRtQdj9-vM",
        "colab_type": "code",
        "colab": {
          "base_uri": "https://localhost:8080/",
          "height": 34
        },
        "outputId": "ba8a1033-c53c-4552-e2d4-e0f582acc84c"
      },
      "source": [
        "#shape of training and validation set\n",
        "\n",
        "(x_train.shape,y_train.shape),(x_test.shape,y_test.shape)"
      ],
      "execution_count": 80,
      "outputs": [
        {
          "output_type": "execute_result",
          "data": {
            "text/plain": [
              "(((491, 11), (491,)), ((123, 11), (123,)))"
            ]
          },
          "metadata": {
            "tags": []
          },
          "execution_count": 80
        }
      ]
    },
    {
      "cell_type": "markdown",
      "metadata": {
        "id": "89nNFHQ2-cIZ",
        "colab_type": "text"
      },
      "source": [
        "# **3-> Defining The Architecture Of the Model**"
      ]
    },
    {
      "cell_type": "code",
      "metadata": {
        "id": "BxZhz2Px-jW4",
        "colab_type": "code",
        "colab": {}
      },
      "source": [
        "import keras\n",
        "import tensorflow as tf\n"
      ],
      "execution_count": 81,
      "outputs": []
    },
    {
      "cell_type": "code",
      "metadata": {
        "id": "k1DNOGCHkyU9",
        "colab_type": "code",
        "colab": {}
      },
      "source": [
        "#importing the sequential model\n",
        "\n",
        "from keras.models import Sequential"
      ],
      "execution_count": 82,
      "outputs": []
    },
    {
      "cell_type": "code",
      "metadata": {
        "id": "PJG2IsrVlcK1",
        "colab_type": "code",
        "colab": {}
      },
      "source": [
        "#importing different layers from keras\n",
        "\n",
        "from keras.layers import InputLayer,Dense"
      ],
      "execution_count": 83,
      "outputs": []
    },
    {
      "cell_type": "code",
      "metadata": {
        "id": "zrvEswXvlxO3",
        "colab_type": "code",
        "colab": {
          "base_uri": "https://localhost:8080/",
          "height": 34
        },
        "outputId": "b2409eff-4778-4cf4-f688-13361b521647"
      },
      "source": [
        "#number of input neurons\n",
        "x_train.shape"
      ],
      "execution_count": 84,
      "outputs": [
        {
          "output_type": "execute_result",
          "data": {
            "text/plain": [
              "(491, 11)"
            ]
          },
          "metadata": {
            "tags": []
          },
          "execution_count": 84
        }
      ]
    },
    {
      "cell_type": "code",
      "metadata": {
        "id": "glOrB-0unVdE",
        "colab_type": "code",
        "colab": {
          "base_uri": "https://localhost:8080/",
          "height": 34
        },
        "outputId": "d9fcd380-1b1a-4741-831b-69493ff0dbf1"
      },
      "source": [
        "#number of feature in data\n",
        "x_train.shape[1]"
      ],
      "execution_count": 85,
      "outputs": [
        {
          "output_type": "execute_result",
          "data": {
            "text/plain": [
              "11"
            ]
          },
          "metadata": {
            "tags": []
          },
          "execution_count": 85
        }
      ]
    },
    {
      "cell_type": "code",
      "metadata": {
        "id": "ao8Wa8NYniky",
        "colab_type": "code",
        "colab": {}
      },
      "source": [
        "#defining input_neurons\n",
        "input_neurons =x_train.shape[1]\n"
      ],
      "execution_count": 86,
      "outputs": []
    },
    {
      "cell_type": "code",
      "metadata": {
        "id": "v1bpXh9qn0u_",
        "colab_type": "code",
        "colab": {}
      },
      "source": [
        "# number of output neuraons\n",
        "#since loan prediction is binary classification problem hence we willhave only 1 output layer\n",
        "\n"
      ],
      "execution_count": 87,
      "outputs": []
    },
    {
      "cell_type": "code",
      "metadata": {
        "id": "mHbiyX_FoFt5",
        "colab_type": "code",
        "colab": {}
      },
      "source": [
        "# defining output neurons\n",
        "output_neurons =1\n"
      ],
      "execution_count": 88,
      "outputs": []
    },
    {
      "cell_type": "code",
      "metadata": {
        "id": "KA6lX2GhoNga",
        "colab_type": "code",
        "colab": {}
      },
      "source": [
        "# number of hidden layers and hidden neuraons\n",
        "\n",
        "#it is a hyperparameter  and we can pick the hidden layers and hidden neuron as our own\n"
      ],
      "execution_count": 89,
      "outputs": []
    },
    {
      "cell_type": "code",
      "metadata": {
        "id": "KUYKsdpfosXu",
        "colab_type": "code",
        "colab": {}
      },
      "source": [
        "#define hidden layer and neuron  in each layer\n",
        "number_of_hidden_layer =2\n",
        "neuron_hidden_layer_1 =10\n",
        "neuron_hidden_layer_2 =5\n"
      ],
      "execution_count": 90,
      "outputs": []
    },
    {
      "cell_type": "code",
      "metadata": {
        "id": "yVbiVgoPpH3g",
        "colab_type": "code",
        "colab": {}
      },
      "source": [
        "# define activation of different layer\n",
        "# i have picked relu as a activation fucntion for hidden layer\n",
        "#since it is a binary classification problem i have used sigmoid fuction in the last layer\n"
      ],
      "execution_count": 91,
      "outputs": []
    },
    {
      "cell_type": "code",
      "metadata": {
        "id": "OSw1r-Eup8j-",
        "colab_type": "code",
        "colab": {}
      },
      "source": [
        "#defining the architecture of the model \n",
        "model = Sequential()\n",
        "model.add(InputLayer(input_shape =(input_neurons,)))\n",
        "model.add(Dense(units =neuron_hidden_layer_1,activation ='relu'))\n",
        "model.add(Dense(units =neuron_hidden_layer_2,activation ='relu'))\n",
        "model.add(Dense(units =output_neurons,activation ='sigmoid'))\n"
      ],
      "execution_count": 92,
      "outputs": []
    },
    {
      "cell_type": "code",
      "metadata": {
        "id": "jJlHwVRSq2_T",
        "colab_type": "code",
        "colab": {
          "base_uri": "https://localhost:8080/",
          "height": 255
        },
        "outputId": "8a4cb909-1020-4083-acc3-ad274de54f03"
      },
      "source": [
        "# show the summary about model architecture\n",
        "model.summary()"
      ],
      "execution_count": 93,
      "outputs": [
        {
          "output_type": "stream",
          "text": [
            "Model: \"sequential_2\"\n",
            "_________________________________________________________________\n",
            "Layer (type)                 Output Shape              Param #   \n",
            "=================================================================\n",
            "dense_3 (Dense)              (None, 10)                120       \n",
            "_________________________________________________________________\n",
            "dense_4 (Dense)              (None, 5)                 55        \n",
            "_________________________________________________________________\n",
            "dense_5 (Dense)              (None, 1)                 6         \n",
            "=================================================================\n",
            "Total params: 181\n",
            "Trainable params: 181\n",
            "Non-trainable params: 0\n",
            "_________________________________________________________________\n"
          ],
          "name": "stdout"
        }
      ]
    },
    {
      "cell_type": "code",
      "metadata": {
        "id": "6WyhikM9q_el",
        "colab_type": "code",
        "colab": {
          "base_uri": "https://localhost:8080/",
          "height": 34
        },
        "outputId": "16a26084-b6e1-4f0c-8c72-d672768ebb3e"
      },
      "source": [
        "#number of parameters between input and first hidden layer\n",
        "input_neurons*neuron_hidden_layer_1"
      ],
      "execution_count": 94,
      "outputs": [
        {
          "output_type": "execute_result",
          "data": {
            "text/plain": [
              "110"
            ]
          },
          "metadata": {
            "tags": []
          },
          "execution_count": 94
        }
      ]
    },
    {
      "cell_type": "code",
      "metadata": {
        "id": "HtVeGmNZq_Py",
        "colab_type": "code",
        "colab": {
          "base_uri": "https://localhost:8080/",
          "height": 34
        },
        "outputId": "32f13ecd-f6e1-44a1-b2de-ced79dbd6242"
      },
      "source": [
        "# adding the bias for each neuraon in first hidden layer\n",
        "input_neurons*neuron_hidden_layer_1+10"
      ],
      "execution_count": 95,
      "outputs": [
        {
          "output_type": "execute_result",
          "data": {
            "text/plain": [
              "120"
            ]
          },
          "metadata": {
            "tags": []
          },
          "execution_count": 95
        }
      ]
    },
    {
      "cell_type": "code",
      "metadata": {
        "id": "rj4uXgTZr6ku",
        "colab_type": "code",
        "colab": {
          "base_uri": "https://localhost:8080/",
          "height": 34
        },
        "outputId": "6ea0456f-ccef-42aa-e2d3-d34eefeb7695"
      },
      "source": [
        "#number of parameters between  first hidden layer and second hidden layer\n",
        "neuron_hidden_layer_1*neuron_hidden_layer_2+5"
      ],
      "execution_count": 96,
      "outputs": [
        {
          "output_type": "execute_result",
          "data": {
            "text/plain": [
              "55"
            ]
          },
          "metadata": {
            "tags": []
          },
          "execution_count": 96
        }
      ]
    },
    {
      "cell_type": "code",
      "metadata": {
        "id": "XltL-603sLoq",
        "colab_type": "code",
        "colab": {
          "base_uri": "https://localhost:8080/",
          "height": 34
        },
        "outputId": "400a57bd-b33e-4d8a-9955-2b6f99939316"
      },
      "source": [
        "#number of parameters between second hidden layer nad output layer\n",
        "\n",
        "neuron_hidden_layer_2*output_neurons+1"
      ],
      "execution_count": 97,
      "outputs": [
        {
          "output_type": "execute_result",
          "data": {
            "text/plain": [
              "6"
            ]
          },
          "metadata": {
            "tags": []
          },
          "execution_count": 97
        }
      ]
    },
    {
      "cell_type": "markdown",
      "metadata": {
        "id": "5fHnw--1s2Oj",
        "colab_type": "text"
      },
      "source": [
        "# **Compiling the Model (define loss function , optimizer)**"
      ]
    },
    {
      "cell_type": "code",
      "metadata": {
        "id": "C_Qj4w5Qs-ia",
        "colab_type": "code",
        "colab": {}
      },
      "source": [
        "model.compile(loss ='binary_crossentropy',optimizer ='Adam',metrics =['accuracy'])"
      ],
      "execution_count": 98,
      "outputs": []
    },
    {
      "cell_type": "markdown",
      "metadata": {
        "id": "uxREkE24titg",
        "colab_type": "text"
      },
      "source": [
        "# **5-> Training The Model**"
      ]
    },
    {
      "cell_type": "code",
      "metadata": {
        "id": "-VhWhRbotnDl",
        "colab_type": "code",
        "colab": {
          "base_uri": "https://localhost:8080/",
          "height": 1000
        },
        "outputId": "611c8887-cf44-4f22-b388-7a21fc498208"
      },
      "source": [
        "model_history =model.fit(x_train,y_train, epochs =50)"
      ],
      "execution_count": 103,
      "outputs": [
        {
          "output_type": "stream",
          "text": [
            "Epoch 1/50\n",
            "16/16 [==============================] - 0s 1ms/step - loss: 0.4684 - accuracy: 0.8106\n",
            "Epoch 2/50\n",
            "16/16 [==============================] - 0s 1ms/step - loss: 0.4701 - accuracy: 0.8106\n",
            "Epoch 3/50\n",
            "16/16 [==============================] - 0s 1ms/step - loss: 0.4675 - accuracy: 0.8106\n",
            "Epoch 4/50\n",
            "16/16 [==============================] - 0s 1ms/step - loss: 0.4661 - accuracy: 0.8106\n",
            "Epoch 5/50\n",
            "16/16 [==============================] - 0s 1ms/step - loss: 0.4655 - accuracy: 0.8106\n",
            "Epoch 6/50\n",
            "16/16 [==============================] - 0s 2ms/step - loss: 0.4651 - accuracy: 0.8106\n",
            "Epoch 7/50\n",
            "16/16 [==============================] - 0s 1ms/step - loss: 0.4646 - accuracy: 0.8106\n",
            "Epoch 8/50\n",
            "16/16 [==============================] - 0s 1ms/step - loss: 0.4633 - accuracy: 0.8126\n",
            "Epoch 9/50\n",
            "16/16 [==============================] - 0s 1ms/step - loss: 0.4631 - accuracy: 0.8126\n",
            "Epoch 10/50\n",
            "16/16 [==============================] - 0s 1ms/step - loss: 0.4624 - accuracy: 0.8126\n",
            "Epoch 11/50\n",
            "16/16 [==============================] - 0s 2ms/step - loss: 0.4622 - accuracy: 0.8126\n",
            "Epoch 12/50\n",
            "16/16 [==============================] - 0s 1ms/step - loss: 0.4615 - accuracy: 0.8126\n",
            "Epoch 13/50\n",
            "16/16 [==============================] - 0s 1ms/step - loss: 0.4609 - accuracy: 0.8126\n",
            "Epoch 14/50\n",
            "16/16 [==============================] - 0s 1ms/step - loss: 0.4605 - accuracy: 0.8126\n",
            "Epoch 15/50\n",
            "16/16 [==============================] - 0s 1ms/step - loss: 0.4596 - accuracy: 0.8126\n",
            "Epoch 16/50\n",
            "16/16 [==============================] - 0s 1ms/step - loss: 0.4594 - accuracy: 0.8126\n",
            "Epoch 17/50\n",
            "16/16 [==============================] - 0s 1ms/step - loss: 0.4587 - accuracy: 0.8126\n",
            "Epoch 18/50\n",
            "16/16 [==============================] - 0s 1ms/step - loss: 0.4591 - accuracy: 0.8126\n",
            "Epoch 19/50\n",
            "16/16 [==============================] - 0s 1ms/step - loss: 0.4581 - accuracy: 0.8106\n",
            "Epoch 20/50\n",
            "16/16 [==============================] - 0s 1ms/step - loss: 0.4577 - accuracy: 0.8106\n",
            "Epoch 21/50\n",
            "16/16 [==============================] - 0s 1ms/step - loss: 0.4582 - accuracy: 0.8126\n",
            "Epoch 22/50\n",
            "16/16 [==============================] - 0s 1ms/step - loss: 0.4581 - accuracy: 0.8126\n",
            "Epoch 23/50\n",
            "16/16 [==============================] - 0s 1ms/step - loss: 0.4582 - accuracy: 0.8126\n",
            "Epoch 24/50\n",
            "16/16 [==============================] - 0s 1ms/step - loss: 0.4561 - accuracy: 0.8106\n",
            "Epoch 25/50\n",
            "16/16 [==============================] - 0s 1ms/step - loss: 0.4560 - accuracy: 0.8106\n",
            "Epoch 26/50\n",
            "16/16 [==============================] - 0s 1ms/step - loss: 0.4557 - accuracy: 0.8106\n",
            "Epoch 27/50\n",
            "16/16 [==============================] - 0s 1ms/step - loss: 0.4558 - accuracy: 0.8106\n",
            "Epoch 28/50\n",
            "16/16 [==============================] - 0s 1ms/step - loss: 0.4549 - accuracy: 0.8106\n",
            "Epoch 29/50\n",
            "16/16 [==============================] - 0s 1ms/step - loss: 0.4552 - accuracy: 0.8106\n",
            "Epoch 30/50\n",
            "16/16 [==============================] - 0s 1ms/step - loss: 0.4542 - accuracy: 0.8106\n",
            "Epoch 31/50\n",
            "16/16 [==============================] - 0s 1ms/step - loss: 0.4544 - accuracy: 0.8106\n",
            "Epoch 32/50\n",
            "16/16 [==============================] - 0s 1ms/step - loss: 0.4539 - accuracy: 0.8126\n",
            "Epoch 33/50\n",
            "16/16 [==============================] - 0s 1ms/step - loss: 0.4536 - accuracy: 0.8106\n",
            "Epoch 34/50\n",
            "16/16 [==============================] - 0s 1ms/step - loss: 0.4541 - accuracy: 0.8106\n",
            "Epoch 35/50\n",
            "16/16 [==============================] - 0s 1ms/step - loss: 0.4533 - accuracy: 0.8106\n",
            "Epoch 36/50\n",
            "16/16 [==============================] - 0s 1ms/step - loss: 0.4528 - accuracy: 0.8106\n",
            "Epoch 37/50\n",
            "16/16 [==============================] - 0s 1ms/step - loss: 0.4534 - accuracy: 0.8106\n",
            "Epoch 38/50\n",
            "16/16 [==============================] - 0s 1ms/step - loss: 0.4527 - accuracy: 0.8106\n",
            "Epoch 39/50\n",
            "16/16 [==============================] - 0s 1ms/step - loss: 0.4520 - accuracy: 0.8106\n",
            "Epoch 40/50\n",
            "16/16 [==============================] - 0s 1ms/step - loss: 0.4520 - accuracy: 0.8106\n",
            "Epoch 41/50\n",
            "16/16 [==============================] - 0s 1ms/step - loss: 0.4514 - accuracy: 0.8106\n",
            "Epoch 42/50\n",
            "16/16 [==============================] - 0s 1ms/step - loss: 0.4510 - accuracy: 0.8126\n",
            "Epoch 43/50\n",
            "16/16 [==============================] - 0s 1ms/step - loss: 0.4514 - accuracy: 0.8126\n",
            "Epoch 44/50\n",
            "16/16 [==============================] - 0s 1ms/step - loss: 0.4518 - accuracy: 0.8106\n",
            "Epoch 45/50\n",
            "16/16 [==============================] - 0s 1ms/step - loss: 0.4517 - accuracy: 0.8106\n",
            "Epoch 46/50\n",
            "16/16 [==============================] - 0s 1ms/step - loss: 0.4505 - accuracy: 0.8126\n",
            "Epoch 47/50\n",
            "16/16 [==============================] - 0s 1ms/step - loss: 0.4556 - accuracy: 0.8106\n",
            "Epoch 48/50\n",
            "16/16 [==============================] - 0s 1ms/step - loss: 0.4490 - accuracy: 0.8106\n",
            "Epoch 49/50\n",
            "16/16 [==============================] - 0s 1ms/step - loss: 0.4515 - accuracy: 0.8106\n",
            "Epoch 50/50\n",
            "16/16 [==============================] - 0s 1ms/step - loss: 0.4498 - accuracy: 0.8106\n"
          ],
          "name": "stdout"
        }
      ]
    },
    {
      "cell_type": "markdown",
      "metadata": {
        "id": "IF6qQVj9zF9Z",
        "colab_type": "text"
      },
      "source": [
        "# **6-> Evaluating Model Performance On Validation set**"
      ]
    },
    {
      "cell_type": "code",
      "metadata": {
        "id": "dc1lqvsnzO3Y",
        "colab_type": "code",
        "colab": {
          "base_uri": "https://localhost:8080/",
          "height": 88
        },
        "outputId": "588fb114-3608-4f73-839d-157cb2109f0c"
      },
      "source": [
        "predictions =model.predict_classes(x_test)"
      ],
      "execution_count": 104,
      "outputs": [
        {
          "output_type": "stream",
          "text": [
            "WARNING:tensorflow:From <ipython-input-104-65a1645ea169>:1: Sequential.predict_classes (from tensorflow.python.keras.engine.sequential) is deprecated and will be removed after 2021-01-01.\n",
            "Instructions for updating:\n",
            "Please use instead:* `np.argmax(model.predict(x), axis=-1)`,   if your model does multi-class classification   (e.g. if it uses a `softmax` last-layer activation).* `(model.predict(x) > 0.5).astype(\"int32\")`,   if your model does binary classification   (e.g. if it uses a `sigmoid` last-layer activation).\n"
          ],
          "name": "stdout"
        }
      ]
    },
    {
      "cell_type": "code",
      "metadata": {
        "id": "5RH9bJ_zzZbO",
        "colab_type": "code",
        "colab": {
          "base_uri": "https://localhost:8080/",
          "height": 34
        },
        "outputId": "75838fc8-2c55-49a5-bf20-7174f7b5a92e"
      },
      "source": [
        "#calculating the accuracy on validation set\n",
        "accuracy_score(y_test,predictions)"
      ],
      "execution_count": 105,
      "outputs": [
        {
          "output_type": "execute_result",
          "data": {
            "text/plain": [
              "0.8130081300813008"
            ]
          },
          "metadata": {
            "tags": []
          },
          "execution_count": 105
        }
      ]
    },
    {
      "cell_type": "code",
      "metadata": {
        "id": "mHMRcyosz2Y7",
        "colab_type": "code",
        "colab": {}
      },
      "source": [
        ""
      ],
      "execution_count": null,
      "outputs": []
    }
  ]
}